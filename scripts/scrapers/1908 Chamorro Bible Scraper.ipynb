{
 "cells": [
  {
   "cell_type": "markdown",
   "id": "b2f735f3",
   "metadata": {},
   "source": [
    "# 1908 Chamorro Bible Scraper"
   ]
  },
  {
   "cell_type": "markdown",
   "id": "6bd2e186",
   "metadata": {},
   "source": [
    "## About This Project"
   ]
  },
  {
   "cell_type": "markdown",
   "id": "bccf82c0",
   "metadata": {},
   "source": [
    "This notebook contains a script to scrape and extract the text from the 1908 Chamorro Bible, available at http://chamorrobible.org/download/YSantaBiblia-Chamorro-HTML.htm. The goal is to collect the full text in Chamorro for further analysis, lexicon expansion, or natural language processing tasks. The text will also be exported to an HTML file for conversion to other formats, such as .epub, .pdf, .docx etc."
   ]
  },
  {
   "cell_type": "markdown",
   "id": "e4a87eae",
   "metadata": {},
   "source": [
    "**Name:** Schyuler Lujan <br>\n",
    "**Date Started:** 01-May-2025 <br>\n",
    "**Date Completed:** In Progress"
   ]
  },
  {
   "cell_type": "markdown",
   "id": "fbe64a7c",
   "metadata": {},
   "source": [
    "## Import Libraries"
   ]
  },
  {
   "cell_type": "code",
   "execution_count": 10,
   "id": "87b5d8d2",
   "metadata": {},
   "outputs": [],
   "source": [
    "# Import relevant libraries\n",
    "import requests\n",
    "import json\n",
    "import time\n",
    "from bs4 import BeautifulSoup\n",
    "from collections import defaultdict\n",
    "import os"
   ]
  },
  {
   "cell_type": "markdown",
   "id": "4dfc1e0b",
   "metadata": {},
   "source": [
    "## Parsing the Chamorro Bible HTML"
   ]
  },
  {
   "cell_type": "markdown",
   "id": "571fd63f",
   "metadata": {},
   "source": [
    "In this section, we use `BeautifulSoup` to parse the HTML content of the Chamorro Bible page. The goal is to extract the **book titles**, **chapter titles**, and **verses** and organize them into a structured Python dictionary. The resulting dictionary will make it easy to access, analyze or process the text later on.\n",
    "\n",
    "Based on the structure of the webpage, the key elements are organized as follows:\n",
    "\n",
    "* **Book Titles**: contained in `<h2>` heading tags\n",
    "* **Chapter titles**: centered inside `<p>` paragraph tags\n",
    "* **Verses**: left-aligned inside `<p>` paragraph tags"
   ]
  },
  {
   "cell_type": "code",
   "execution_count": 3,
   "id": "4505aafb",
   "metadata": {},
   "outputs": [],
   "source": [
    "# Set the URL for the 1908 Chamorro Bible webpage\n",
    "url = 'http://chamorrobible.org/download/YSantaBiblia-Chamorro-HTML.htm'"
   ]
  },
  {
   "cell_type": "code",
   "execution_count": 5,
   "id": "22f6ffad",
   "metadata": {},
   "outputs": [],
   "source": [
    "def get_chamorro_bible_text(url):\n",
    "    \"\"\"\n",
    "    Parses the Chamorro Bible HTML content and extracts the book titles, chapter titles, and verses.\n",
    "\n",
    "    Args:\n",
    "        url (str): The URL of the Chamorro Bible page.\n",
    "\n",
    "    Returns:\n",
    "        dict: A nested dictionary where each book title maps to its chapters, \n",
    "              and each chapter maps to a list of verses.\n",
    "              Example structure:\n",
    "              {\n",
    "                  'Genesis': {\n",
    "                      'Chapter 1': ['In the beginning...', 'Verse 2 text', ...],\n",
    "                      'Chapter 2': [...],\n",
    "                      ...\n",
    "                  },\n",
    "                  ...\n",
    "              }\n",
    "    \"\"\"\n",
    "    # Go to the url and parse the html\n",
    "    response = requests.get(url, timeout=10)\n",
    "    response.raise_for_status() # Raise error for bad responses\n",
    "    response.encoding = response.apparent_encoding\n",
    "    \n",
    "    soup = BeautifulSoup(response.text, \"html.parser\")\n",
    "    \n",
    "    # Initialize dictionary for storing bible data\n",
    "    bible_data = defaultdict(lambda: defaultdict(list))\n",
    "    \n",
    "    current_book = None\n",
    "    current_chapter = None\n",
    "    \n",
    "    # Find the book titles, chapter titles, verses and add to the dictionary\n",
    "    for tag in soup.body.descendants:\n",
    "        if tag.name == 'h2' and tag.has_attr('id'):\n",
    "            current_book = tag.get_text(strip=True)\n",
    "        elif tag.name == 'p' and tag.has_attr('id') and tag.parent.name == 'center':\n",
    "            current_chapter = tag.get_text(strip=True)\n",
    "        elif tag.name == 'p' and tag.get('align') == 'LEFT':\n",
    "            verse = tag.get_text()\n",
    "            verse = verse.replace('\\n',' ') # To remove newlines without using strip\n",
    "            if current_book and current_chapter:\n",
    "                bible_data[current_book][current_chapter].append(verse)\n",
    "    \n",
    "    return bible_data"
   ]
  },
  {
   "cell_type": "code",
   "execution_count": 7,
   "id": "8a689618",
   "metadata": {},
   "outputs": [],
   "source": [
    "# Get the bible data\n",
    "bible_contents = get_chamorro_bible_text(url)"
   ]
  },
  {
   "cell_type": "markdown",
   "id": "831e9754-d9f9-4160-a3d2-16da2519b049",
   "metadata": {},
   "source": [
    "## Export Contents to JSON"
   ]
  },
  {
   "cell_type": "code",
   "execution_count": 12,
   "id": "2dc9a8a1",
   "metadata": {},
   "outputs": [],
   "source": [
    "# Convert defaultdict to regular dict before saving\n",
    "bible_dict = {book: dict(chapters) for book, chapters in bible_contents.items()}"
   ]
  },
  {
   "cell_type": "code",
   "execution_count": 18,
   "id": "2cb766aa-3599-42a4-9291-6e5ed61e66f5",
   "metadata": {},
   "outputs": [],
   "source": [
    "# Set file path\n",
    "base_path = \"C:/Users/schyu/Documents/Python-Projects/\" #BASE PATH GOES HERE\n",
    "folder_path = base_path + \"Chamorro-Bible-Scraper/exports/json/\"\n",
    "\n",
    "# Set file name\n",
    "file_name = '1908_chamorro_bible.json'\n",
    "\n",
    "# Create the file path by joining folder_path and file_name\n",
    "file_path = os.path.join(folder_path, file_name)"
   ]
  },
  {
   "cell_type": "code",
   "execution_count": 20,
   "id": "771ad899",
   "metadata": {},
   "outputs": [
    {
     "ename": "FileNotFoundError",
     "evalue": "[Errno 2] No such file or directory: 'C:/Users/schyu/Documents/Python-ProjectsChamorro-Bible-Scraper/exports/json/1908_chamorro_bible.json'",
     "output_type": "error",
     "traceback": [
      "\u001b[1;31m---------------------------------------------------------------------------\u001b[0m",
      "\u001b[1;31mFileNotFoundError\u001b[0m                         Traceback (most recent call last)",
      "Cell \u001b[1;32mIn[20], line 2\u001b[0m\n\u001b[0;32m      1\u001b[0m \u001b[38;5;66;03m# Export as JSON\u001b[39;00m\n\u001b[1;32m----> 2\u001b[0m \u001b[38;5;28;01mwith\u001b[39;00m \u001b[38;5;28mopen\u001b[39m(file_path, \u001b[38;5;124m'\u001b[39m\u001b[38;5;124mw\u001b[39m\u001b[38;5;124m'\u001b[39m, encoding\u001b[38;5;241m=\u001b[39m\u001b[38;5;124m\"\u001b[39m\u001b[38;5;124mutf-8\u001b[39m\u001b[38;5;124m\"\u001b[39m) \u001b[38;5;28;01mas\u001b[39;00m f:\n\u001b[0;32m      3\u001b[0m     json\u001b[38;5;241m.\u001b[39mdump(bible_dict, f, ensure_ascii\u001b[38;5;241m=\u001b[39m\u001b[38;5;28;01mFalse\u001b[39;00m, indent\u001b[38;5;241m=\u001b[39m\u001b[38;5;241m2\u001b[39m)\n",
      "File \u001b[1;32m~\\anaconda3\\Lib\\site-packages\\IPython\\core\\interactiveshell.py:310\u001b[0m, in \u001b[0;36m_modified_open\u001b[1;34m(file, *args, **kwargs)\u001b[0m\n\u001b[0;32m    303\u001b[0m \u001b[38;5;28;01mif\u001b[39;00m file \u001b[38;5;129;01min\u001b[39;00m {\u001b[38;5;241m0\u001b[39m, \u001b[38;5;241m1\u001b[39m, \u001b[38;5;241m2\u001b[39m}:\n\u001b[0;32m    304\u001b[0m     \u001b[38;5;28;01mraise\u001b[39;00m \u001b[38;5;167;01mValueError\u001b[39;00m(\n\u001b[0;32m    305\u001b[0m         \u001b[38;5;124mf\u001b[39m\u001b[38;5;124m\"\u001b[39m\u001b[38;5;124mIPython won\u001b[39m\u001b[38;5;124m'\u001b[39m\u001b[38;5;124mt let you open fd=\u001b[39m\u001b[38;5;132;01m{\u001b[39;00mfile\u001b[38;5;132;01m}\u001b[39;00m\u001b[38;5;124m by default \u001b[39m\u001b[38;5;124m\"\u001b[39m\n\u001b[0;32m    306\u001b[0m         \u001b[38;5;124m\"\u001b[39m\u001b[38;5;124mas it is likely to crash IPython. If you know what you are doing, \u001b[39m\u001b[38;5;124m\"\u001b[39m\n\u001b[0;32m    307\u001b[0m         \u001b[38;5;124m\"\u001b[39m\u001b[38;5;124myou can use builtins\u001b[39m\u001b[38;5;124m'\u001b[39m\u001b[38;5;124m open.\u001b[39m\u001b[38;5;124m\"\u001b[39m\n\u001b[0;32m    308\u001b[0m     )\n\u001b[1;32m--> 310\u001b[0m \u001b[38;5;28;01mreturn\u001b[39;00m io_open(file, \u001b[38;5;241m*\u001b[39margs, \u001b[38;5;241m*\u001b[39m\u001b[38;5;241m*\u001b[39mkwargs)\n",
      "\u001b[1;31mFileNotFoundError\u001b[0m: [Errno 2] No such file or directory: 'C:/Users/schyu/Documents/Python-ProjectsChamorro-Bible-Scraper/exports/json/1908_chamorro_bible.json'"
     ]
    }
   ],
   "source": [
    "# Export as JSON\n",
    "with open(file_path, 'w', encoding=\"utf-8\") as f:\n",
    "    json.dump(bible_dict, f, ensure_ascii=False, indent=2)"
   ]
  },
  {
   "cell_type": "markdown",
   "id": "74a3689f",
   "metadata": {},
   "source": [
    "## Export Unique Word List"
   ]
  },
  {
   "cell_type": "code",
   "execution_count": 37,
   "id": "5215cc33",
   "metadata": {},
   "outputs": [],
   "source": [
    "# FIXME: Add function to get a unique word list from the bible verses"
   ]
  },
  {
   "cell_type": "markdown",
   "id": "b7df8248",
   "metadata": {},
   "source": [
    "## Export HTML File"
   ]
  },
  {
   "cell_type": "code",
   "execution_count": null,
   "id": "4e04babd",
   "metadata": {},
   "outputs": [],
   "source": [
    "# FIXME: Append the bible contents to HTML structure and export to HTML file"
   ]
  }
 ],
 "metadata": {
  "kernelspec": {
   "display_name": "Python [conda env:base] *",
   "language": "python",
   "name": "conda-base-py"
  },
  "language_info": {
   "codemirror_mode": {
    "name": "ipython",
    "version": 3
   },
   "file_extension": ".py",
   "mimetype": "text/x-python",
   "name": "python",
   "nbconvert_exporter": "python",
   "pygments_lexer": "ipython3",
   "version": "3.11.7"
  }
 },
 "nbformat": 4,
 "nbformat_minor": 5
}
